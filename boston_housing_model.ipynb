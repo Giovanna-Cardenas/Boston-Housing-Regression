{
 "cells": [
  {
   "cell_type": "markdown",
   "id": "b822bb73-aac9-4d33-95c2-88b0a3e0e4a7",
   "metadata": {
    "tags": []
   },
   "source": [
    "# Boston Housing Regression Analysis\n",
    "**Author:** Giovanna Cardenas  \n",
    "**Date:** May 2025  \n",
    "**Description:** This notebook builds and evaluates a multiple linear regression model to predict median home values in the Boston area using selected features from the housing dataset."
   ]
  },
  {
   "cell_type": "code",
   "execution_count": 85,
   "id": "91652023-200b-42f6-bb89-4321b16e5bad",
   "metadata": {
    "tags": []
   },
   "outputs": [],
   "source": [
    "# Import Packages\n",
    "%matplotlib inline\n",
    "from pathlib import Path\n",
    "import pandas as pd\n",
    "import numpy as np\n",
    "from sklearn.model_selection import train_test_split\n",
    "from sklearn.linear_model import LinearRegression\n",
    "from dmba import regressionSummary\n",
    "from dmba import adjusted_r2_score\n",
    "from dmba import forward_selection\n",
    "from dmba import AIC_score\n",
    "from dmba import backward_elimination\n",
    "import warnings\n",
    "warnings.filterwarnings('ignore')"
   ]
  },
  {
   "cell_type": "code",
   "execution_count": 87,
   "id": "f7faea56-fb46-46d6-a950-4ef5855ecb33",
   "metadata": {
    "tags": []
   },
   "outputs": [
    {
     "data": {
      "text/html": [
       "<div>\n",
       "<style scoped>\n",
       "    .dataframe tbody tr th:only-of-type {\n",
       "        vertical-align: middle;\n",
       "    }\n",
       "\n",
       "    .dataframe tbody tr th {\n",
       "        vertical-align: top;\n",
       "    }\n",
       "\n",
       "    .dataframe thead th {\n",
       "        text-align: right;\n",
       "    }\n",
       "</style>\n",
       "<table border=\"1\" class=\"dataframe\">\n",
       "  <thead>\n",
       "    <tr style=\"text-align: right;\">\n",
       "      <th></th>\n",
       "      <th>CRIM</th>\n",
       "      <th>ZN</th>\n",
       "      <th>INDUS</th>\n",
       "      <th>CHAS</th>\n",
       "      <th>NOX</th>\n",
       "      <th>RM</th>\n",
       "      <th>AGE</th>\n",
       "      <th>DIS</th>\n",
       "      <th>RAD</th>\n",
       "      <th>TAX</th>\n",
       "      <th>PTRATIO</th>\n",
       "      <th>LSTAT</th>\n",
       "      <th>MEDV</th>\n",
       "      <th>CAT. MEDV</th>\n",
       "    </tr>\n",
       "  </thead>\n",
       "  <tbody>\n",
       "    <tr>\n",
       "      <th>0</th>\n",
       "      <td>0.00632</td>\n",
       "      <td>18.0</td>\n",
       "      <td>2.31</td>\n",
       "      <td>0</td>\n",
       "      <td>0.538</td>\n",
       "      <td>6.575</td>\n",
       "      <td>65.2</td>\n",
       "      <td>4.0900</td>\n",
       "      <td>1</td>\n",
       "      <td>296</td>\n",
       "      <td>15.3</td>\n",
       "      <td>4.98</td>\n",
       "      <td>24.0</td>\n",
       "      <td>0</td>\n",
       "    </tr>\n",
       "    <tr>\n",
       "      <th>1</th>\n",
       "      <td>0.02731</td>\n",
       "      <td>0.0</td>\n",
       "      <td>7.07</td>\n",
       "      <td>0</td>\n",
       "      <td>0.469</td>\n",
       "      <td>6.421</td>\n",
       "      <td>78.9</td>\n",
       "      <td>4.9671</td>\n",
       "      <td>2</td>\n",
       "      <td>242</td>\n",
       "      <td>17.8</td>\n",
       "      <td>9.14</td>\n",
       "      <td>21.6</td>\n",
       "      <td>0</td>\n",
       "    </tr>\n",
       "    <tr>\n",
       "      <th>2</th>\n",
       "      <td>0.02729</td>\n",
       "      <td>0.0</td>\n",
       "      <td>7.07</td>\n",
       "      <td>0</td>\n",
       "      <td>0.469</td>\n",
       "      <td>7.185</td>\n",
       "      <td>61.1</td>\n",
       "      <td>4.9671</td>\n",
       "      <td>2</td>\n",
       "      <td>242</td>\n",
       "      <td>17.8</td>\n",
       "      <td>4.03</td>\n",
       "      <td>34.7</td>\n",
       "      <td>1</td>\n",
       "    </tr>\n",
       "    <tr>\n",
       "      <th>3</th>\n",
       "      <td>0.03237</td>\n",
       "      <td>0.0</td>\n",
       "      <td>2.18</td>\n",
       "      <td>0</td>\n",
       "      <td>0.458</td>\n",
       "      <td>6.998</td>\n",
       "      <td>45.8</td>\n",
       "      <td>6.0622</td>\n",
       "      <td>3</td>\n",
       "      <td>222</td>\n",
       "      <td>18.7</td>\n",
       "      <td>2.94</td>\n",
       "      <td>33.4</td>\n",
       "      <td>1</td>\n",
       "    </tr>\n",
       "    <tr>\n",
       "      <th>4</th>\n",
       "      <td>0.06905</td>\n",
       "      <td>0.0</td>\n",
       "      <td>2.18</td>\n",
       "      <td>0</td>\n",
       "      <td>0.458</td>\n",
       "      <td>7.147</td>\n",
       "      <td>54.2</td>\n",
       "      <td>6.0622</td>\n",
       "      <td>3</td>\n",
       "      <td>222</td>\n",
       "      <td>18.7</td>\n",
       "      <td>5.33</td>\n",
       "      <td>36.2</td>\n",
       "      <td>1</td>\n",
       "    </tr>\n",
       "    <tr>\n",
       "      <th>5</th>\n",
       "      <td>0.02985</td>\n",
       "      <td>0.0</td>\n",
       "      <td>2.18</td>\n",
       "      <td>0</td>\n",
       "      <td>0.458</td>\n",
       "      <td>6.430</td>\n",
       "      <td>58.7</td>\n",
       "      <td>6.0622</td>\n",
       "      <td>3</td>\n",
       "      <td>222</td>\n",
       "      <td>18.7</td>\n",
       "      <td>5.21</td>\n",
       "      <td>28.7</td>\n",
       "      <td>0</td>\n",
       "    </tr>\n",
       "    <tr>\n",
       "      <th>6</th>\n",
       "      <td>0.08829</td>\n",
       "      <td>12.5</td>\n",
       "      <td>7.87</td>\n",
       "      <td>0</td>\n",
       "      <td>0.524</td>\n",
       "      <td>6.012</td>\n",
       "      <td>66.6</td>\n",
       "      <td>5.5605</td>\n",
       "      <td>5</td>\n",
       "      <td>311</td>\n",
       "      <td>15.2</td>\n",
       "      <td>12.43</td>\n",
       "      <td>22.9</td>\n",
       "      <td>0</td>\n",
       "    </tr>\n",
       "    <tr>\n",
       "      <th>7</th>\n",
       "      <td>0.14455</td>\n",
       "      <td>12.5</td>\n",
       "      <td>7.87</td>\n",
       "      <td>0</td>\n",
       "      <td>0.524</td>\n",
       "      <td>6.172</td>\n",
       "      <td>96.1</td>\n",
       "      <td>5.9505</td>\n",
       "      <td>5</td>\n",
       "      <td>311</td>\n",
       "      <td>15.2</td>\n",
       "      <td>19.15</td>\n",
       "      <td>27.1</td>\n",
       "      <td>0</td>\n",
       "    </tr>\n",
       "    <tr>\n",
       "      <th>8</th>\n",
       "      <td>0.21124</td>\n",
       "      <td>12.5</td>\n",
       "      <td>7.87</td>\n",
       "      <td>0</td>\n",
       "      <td>0.524</td>\n",
       "      <td>5.631</td>\n",
       "      <td>100.0</td>\n",
       "      <td>6.0821</td>\n",
       "      <td>5</td>\n",
       "      <td>311</td>\n",
       "      <td>15.2</td>\n",
       "      <td>29.93</td>\n",
       "      <td>16.5</td>\n",
       "      <td>0</td>\n",
       "    </tr>\n",
       "    <tr>\n",
       "      <th>9</th>\n",
       "      <td>0.17004</td>\n",
       "      <td>12.5</td>\n",
       "      <td>7.87</td>\n",
       "      <td>0</td>\n",
       "      <td>0.524</td>\n",
       "      <td>6.004</td>\n",
       "      <td>85.9</td>\n",
       "      <td>6.5921</td>\n",
       "      <td>5</td>\n",
       "      <td>311</td>\n",
       "      <td>15.2</td>\n",
       "      <td>17.10</td>\n",
       "      <td>18.9</td>\n",
       "      <td>0</td>\n",
       "    </tr>\n",
       "  </tbody>\n",
       "</table>\n",
       "</div>"
      ],
      "text/plain": [
       "      CRIM    ZN  INDUS  CHAS    NOX     RM    AGE     DIS  RAD  TAX  PTRATIO  \\\n",
       "0  0.00632  18.0   2.31     0  0.538  6.575   65.2  4.0900    1  296     15.3   \n",
       "1  0.02731   0.0   7.07     0  0.469  6.421   78.9  4.9671    2  242     17.8   \n",
       "2  0.02729   0.0   7.07     0  0.469  7.185   61.1  4.9671    2  242     17.8   \n",
       "3  0.03237   0.0   2.18     0  0.458  6.998   45.8  6.0622    3  222     18.7   \n",
       "4  0.06905   0.0   2.18     0  0.458  7.147   54.2  6.0622    3  222     18.7   \n",
       "5  0.02985   0.0   2.18     0  0.458  6.430   58.7  6.0622    3  222     18.7   \n",
       "6  0.08829  12.5   7.87     0  0.524  6.012   66.6  5.5605    5  311     15.2   \n",
       "7  0.14455  12.5   7.87     0  0.524  6.172   96.1  5.9505    5  311     15.2   \n",
       "8  0.21124  12.5   7.87     0  0.524  5.631  100.0  6.0821    5  311     15.2   \n",
       "9  0.17004  12.5   7.87     0  0.524  6.004   85.9  6.5921    5  311     15.2   \n",
       "\n",
       "   LSTAT  MEDV  CAT. MEDV  \n",
       "0   4.98  24.0          0  \n",
       "1   9.14  21.6          0  \n",
       "2   4.03  34.7          1  \n",
       "3   2.94  33.4          1  \n",
       "4   5.33  36.2          1  \n",
       "5   5.21  28.7          0  \n",
       "6  12.43  22.9          0  \n",
       "7  19.15  27.1          0  \n",
       "8  29.93  16.5          0  \n",
       "9  17.10  18.9          0  "
      ]
     },
     "execution_count": 87,
     "metadata": {},
     "output_type": "execute_result"
    }
   ],
   "source": [
    "# Load Data\n",
    "housing= pd.read_csv('BostonHousing-1.csv')\n",
    "housing.head(10)"
   ]
  },
  {
   "cell_type": "code",
   "execution_count": 89,
   "id": "8a47d95e-c1f2-45ff-a421-f58f503bbf84",
   "metadata": {
    "tags": []
   },
   "outputs": [],
   "source": [
    "# Fit a multiple linear regression model to the median house price (MEDV) as a function of CRIM, CHAS, and RM\n",
    "# Select columns for regression analysis\n",
    "x= housing[['CRIM', 'CHAS', 'RM']]\n",
    "y= housing['MEDV']"
   ]
  },
  {
   "cell_type": "code",
   "execution_count": 91,
   "id": "d3527d86-fd7b-415c-b9dd-aa500d81bf76",
   "metadata": {
    "tags": []
   },
   "outputs": [
    {
     "name": "stdout",
     "output_type": "stream",
     "text": [
      "Intercept  -27.283684087067414\n",
      "      X  Coefficient\n",
      "0  CRIM    -0.293142\n",
      "1  CHAS     4.050572\n",
      "2    RM     8.060902\n",
      "\n",
      "Regression statistics\n",
      "\n",
      "                      Mean Error (ME) : 0.0000\n",
      "       Root Mean Squared Error (RMSE) : 6.4116\n",
      "            Mean Absolute Error (MAE) : 4.3570\n",
      "          Mean Percentage Error (MPE) : -7.8166\n",
      "Mean Absolute Percentage Error (MAPE) : 23.7359\n"
     ]
    }
   ],
   "source": [
    "# Partition data and create a regression model\n",
    "x_train, x_test, y_train, y_test = train_test_split(x, y, test_size=0.2, random_state=5)\n",
    "\n",
    "housing_lr = LinearRegression()\n",
    "housing_lr.fit(x_train, y_train)\n",
    "\n",
    "# Print coefficients\n",
    "print('Intercept ', housing_lr.intercept_)\n",
    "print(pd.DataFrame({'X': x.columns, 'Coefficient': housing_lr.coef_}))\n",
    "\n",
    "# Print performance measures\n",
    "regressionSummary(y_train, housing_lr.predict(x_train))"
   ]
  },
  {
   "cell_type": "code",
   "execution_count": 93,
   "id": "da85eac3-f800-4805-87f9-67b0ffb4a258",
   "metadata": {
    "tags": []
   },
   "outputs": [
    {
     "name": "stdout",
     "output_type": "stream",
     "text": [
      "Adjusted R2 :  0.6712208671530389\n"
     ]
    }
   ],
   "source": [
    "# Print adjusted r2\n",
    "pred_y= housing_lr.predict(x_test)\n",
    "print('Adjusted R2 : ', adjusted_r2_score(y_test, pred_y, housing_lr))"
   ]
  },
  {
   "cell_type": "code",
   "execution_count": 95,
   "id": "b3be505d-bbf2-4e3b-87c0-db84e2cfb60b",
   "metadata": {
    "tags": []
   },
   "outputs": [
    {
     "name": "stdout",
     "output_type": "stream",
     "text": [
      "     Predicted  Actual  Residual\n",
      "226      37.41    37.6  0.186050\n",
      "292      26.15    27.9  1.750498\n",
      "90       24.43    22.6 -1.829396\n",
      "373       9.01    13.8  4.793147\n",
      "273      38.70    35.2 -3.498246\n",
      "417       7.87    10.4  2.532936\n",
      "503      28.93    23.9 -5.031360\n",
      "234      30.85    29.0 -1.853216\n",
      "111      26.82    22.8 -4.015715\n",
      "472      23.56    23.2 -0.358215\n",
      "\n",
      "Regression statistics\n",
      "\n",
      "                      Mean Error (ME) : -0.3187\n",
      "       Root Mean Squared Error (RMSE) : 4.9977\n",
      "            Mean Absolute Error (MAE) : 3.6312\n",
      "          Mean Percentage Error (MPE) : -6.0168\n",
      "Mean Absolute Percentage Error (MAPE) : 20.9753\n"
     ]
    }
   ],
   "source": [
    "# Use predict() to make predictions on the test set\n",
    "housing_pred = housing_lr.predict(x_test)\n",
    "result = pd.DataFrame({'Predicted': np.round(housing_pred,2), 'Actual': y_test,\n",
    "                       'Residual': y_test - housing_pred})\n",
    "print(result.head(10))\n",
    "\n",
    "# Compute common accuracy measures\n",
    "regressionSummary(y_test, housing_pred)"
   ]
  },
  {
   "cell_type": "code",
   "execution_count": 97,
   "id": "e9850423-268f-4b1b-847b-58100ff57601",
   "metadata": {
    "tags": []
   },
   "outputs": [
    {
     "name": "stdout",
     "output_type": "stream",
     "text": [
      "Variables: CRIM, CHAS, RM\n",
      "Start: score=2949.60, constant\n",
      "Step: score=2721.59, add RM\n",
      "Step: score=2666.07, add CRIM\n",
      "Step: score=2657.85, add CHAS\n",
      "Step: score=2657.85, add None\n",
      "best variables:  ['RM', 'CRIM', 'CHAS']\n",
      "[ 8.06090237 -0.29314194  4.05057245]\n",
      "-27.28368408706738\n"
     ]
    }
   ],
   "source": [
    "# Forward Selection to potentionally improve model\n",
    "def train_model1(variables):\n",
    "    if len(variables) == 0:\n",
    "        return None\n",
    "    model1 = LinearRegression()\n",
    "    model1.fit(x_train[variables], y_train)\n",
    "    return model1\n",
    "\n",
    "def score_model1(model1, variables):\n",
    "    if len(variables) == 0:\n",
    "        return AIC_score(y_train, [y_train.mean()] * len(y_train), model1, df=1)\n",
    "    return AIC_score(y_train, model1.predict(x_train[variables]), model1)\n",
    "\n",
    "best_model1, best_variables1 = forward_selection(x_train.columns, train_model1, score_model1, verbose = True)\n",
    "\n",
    "print('best variables: ',best_variables1)\n",
    "print(best_model1.coef_)\n",
    "print(best_model1.intercept_)"
   ]
  },
  {
   "cell_type": "code",
   "execution_count": 99,
   "id": "728a5907-2608-41eb-a67c-92fa946e4e0e",
   "metadata": {
    "tags": []
   },
   "outputs": [
    {
     "name": "stdout",
     "output_type": "stream",
     "text": [
      "Variables: CRIM, CHAS, RM\n",
      "Start: score=2657.85\n",
      "Step: score=2657.85, remove None\n",
      "best variables:  ['CRIM', 'CHAS', 'RM']\n",
      "[-0.29314194  4.05057245  8.06090237]\n",
      "-27.283684087067414\n"
     ]
    }
   ],
   "source": [
    "# Backward Elimination to potentionally improve model\n",
    "def train_model2(variables):\n",
    "    model2 = LinearRegression()\n",
    "    model2.fit(x_train[variables], y_train)\n",
    "    return model2\n",
    "\n",
    "def score_model2(model2, variables):\n",
    "    return AIC_score(y_train, model2.predict(x_train[variables]), model2)\n",
    "\n",
    "best_model2, best_variables2 = backward_elimination(x_train.columns, train_model2, score_model2, verbose=True)\n",
    "\n",
    "print('best variables: ',best_variables2)\n",
    "print(best_model2.coef_)\n",
    "print(best_model2.intercept_)                    "
   ]
  },
  {
   "cell_type": "code",
   "execution_count": 101,
   "id": "f4b51db8-98fb-497b-bed9-b9d0d41a6d38",
   "metadata": {
    "tags": []
   },
   "outputs": [
    {
     "name": "stdout",
     "output_type": "stream",
     "text": [
      "Median Value of Owner-Occupied Homes = -0.29314194268266885*CRIM + 4.05057244845638*CHAS + 8.060902369227714*RM\n"
     ]
    }
   ],
   "source": [
    "# Print equation for predicting the median house price from the predictors in the model\n",
    "print(\"Median Value of Owner-Occupied Homes =\", end=\" \")\n",
    "equation = \" + \".join([\n",
    "    f\"{coef}*{var}\" for coef, var in zip(best_model2.coef_, best_variables2)])\n",
    "\n",
    "print(equation)"
   ]
  },
  {
   "cell_type": "code",
   "execution_count": 103,
   "id": "17906d06-15b0-4576-a3e4-457b0e4cee5e",
   "metadata": {
    "tags": []
   },
   "outputs": [],
   "source": [
    "# Equation for predicting the median house price from the predictors in the model:\n",
    "# Median Value of Owner-Occupied Homes= -0.29314194268266885*CRIM + 4.05057244845638*CHAS + 8.060902369227714*RM"
   ]
  },
  {
   "cell_type": "code",
   "execution_count": 109,
   "id": "337a2dd0-4b9a-46cd-8ff9-e31aacd7f295",
   "metadata": {
    "tags": []
   },
   "outputs": [
    {
     "name": "stdout",
     "output_type": "stream",
     "text": [
      "Predicted Outcome: $21,052.42\n"
     ]
    }
   ],
   "source": [
    "# What median house price is predicted for a tract in the Boston area that does not bound the Charles River,\n",
    "# has a crime rate of 0.1, and where the average number of rooms per house is 6?\n",
    "\n",
    "prediction = best_model2.predict([[0.1, 0, 6]])[0]\n",
    "prediction_dollars = prediction * 1000\n",
    "print(f\"Predicted Outcome: ${prediction_dollars:,.2f}\")"
   ]
  }
 ],
 "metadata": {
  "kernelspec": {
   "display_name": "Python [conda env:base] *",
   "language": "python",
   "name": "conda-base-py"
  },
  "language_info": {
   "codemirror_mode": {
    "name": "ipython",
    "version": 3
   },
   "file_extension": ".py",
   "mimetype": "text/x-python",
   "name": "python",
   "nbconvert_exporter": "python",
   "pygments_lexer": "ipython3",
   "version": "3.11.5"
  }
 },
 "nbformat": 4,
 "nbformat_minor": 5
}
